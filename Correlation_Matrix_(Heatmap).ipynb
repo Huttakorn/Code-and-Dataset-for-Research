{
  "nbformat": 4,
  "nbformat_minor": 0,
  "metadata": {
    "colab": {
      "provenance": []
    },
    "kernelspec": {
      "name": "python3",
      "display_name": "Python 3"
    },
    "language_info": {
      "name": "python"
    }
  },
  "cells": [
    {
      "cell_type": "code",
      "source": [
        "#Adjust the file paths and column names as necessary for your specific dataset and use case.\n",
        "\n",
        "# Install necessary libraries\n",
        "pip install pandas matplotlib seaborn scipy\n",
        "\n",
        "import pandas as pd  # Import pandas for data manipulation\n",
        "import seaborn as sns  # Import seaborn for creating heatmaps\n",
        "import matplotlib.pyplot as plt  # Import matplotlib for plotting\n",
        "from scipy.stats import pearsonr  # Import pearsonr from scipy for calculating Pearson correlation\n",
        "import numpy as np  # Import numpy for numerical operations\n",
        "\n",
        "# Step 1: Load your data from an Excel file\n",
        "data = pd.read_excel('file_path')\n",
        "\n",
        "# Step 2: Drop any unnecessary columns (adjust the column name as necessary)\n",
        "data = data.drop(columns=['No,'])\n",
        "\n",
        "# Step 3: Initialize the correlation matrix and the p-value matrix\n",
        "correlation_matrix = pd.DataFrame(data=np.zeros((data.shape[1], data.shape[1])), columns=data.columns, index=data.columns)\n",
        "p_values_matrix = pd.DataFrame(data=np.zeros((data.shape[1], data.shape[1])), columns=data.columns, index=data.columns)\n",
        "\n",
        "# Step 4: Calculate the correlation and p-values for each pair of variables\n",
        "for col1 in data.columns:\n",
        "    for col2 in data.columns:\n",
        "        corr, p_value = pearsonr(data[col1], data[col2])\n",
        "        correlation_matrix.loc[col1, col2] = corr\n",
        "        p_values_matrix.loc[col1, col2] = p_value\n",
        "\n",
        "# Step 5: Create a mask for significant correlations at p < 0.05\n",
        "mask_significant = p_values_matrix < 0.05\n",
        "\n",
        "# Step 6: Plotting the heatmap\n",
        "plt.figure(figsize=(12, 10))\n",
        "sns.heatmap(correlation_matrix, annot=True, fmt=\".2f\", cmap=\"coolwarm\", linewidths=.5, mask=~mask_significant)\n",
        "plt.title('Correlation Matrix')\n",
        "\n",
        "# Step 7: Save the heatmap as a PNG file\n",
        "plt.savefig('file_path')  # Specify your path and file name here\n",
        "\n",
        "# Step 8: Show the heatmap\n",
        "plt.show()"
      ],
      "metadata": {
        "id": "iRwS9AaeSyM5"
      },
      "execution_count": null,
      "outputs": []
    }
  ]
}